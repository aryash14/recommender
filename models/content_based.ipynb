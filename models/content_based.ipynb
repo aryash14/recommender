{
 "cells": [
  {
   "cell_type": "code",
   "execution_count": 2,
   "metadata": {},
   "outputs": [],
   "source": [
    "# Imports\n",
    "import pandas as pd\n",
    "from sklearn.feature_extraction.text import TfidfVectorizer\n",
    "from sklearn.metrics.pairwise import linear_kernel\n",
    "from ast import literal_eval\n",
    "from sklearn.feature_extraction.text import CountVectorizer\n",
    "from sklearn.metrics.pairwise import cosine_similarity\n",
    "\n",
    "import numpy as np"
   ]
  },
  {
   "cell_type": "markdown",
   "metadata": {},
   "source": [
    "### Getting the data "
   ]
  },
  {
   "cell_type": "code",
   "execution_count": 3,
   "metadata": {},
   "outputs": [],
   "source": [
    "metadata = pd.read_csv('../datasets/movies_metadata.csv', low_memory=False)\n",
    "credits = pd.read_csv('../datasets/credits.csv')\n",
    "keywords = pd.read_csv('../datasets/keywords.csv')\n",
    "#converting the ids into ints in order to merge them later\n",
    "metadata = metadata.drop([19730, 29503, 35587])\n",
    "credits['id'] = credits['id'].astype('int32')\n",
    "keywords['id'] = keywords['id'].astype('int32')\n",
    "metadata['id'] = metadata['id'].astype('int32')"
   ]
  },
  {
   "cell_type": "markdown",
   "metadata": {},
   "source": [
    "### Merge datasets"
   ]
  },
  {
   "cell_type": "code",
   "execution_count": 4,
   "metadata": {},
   "outputs": [],
   "source": [
    "#adding the columns based on ids for credits which containes cast and crew\n",
    "metadata = metadata.merge(credits, on='id')\n",
    "#adding the columns based on ids for keywords which containes keywords\n",
    "metadata = metadata.merge(keywords, on='id')"
   ]
  },
  {
   "cell_type": "code",
   "execution_count": 5,
   "metadata": {},
   "outputs": [],
   "source": [
    "#Define a TF-IDF Vectorizer Object. Remove all english stop words such as 'the', 'a'\n",
    "tfidf = TfidfVectorizer(stop_words='english')\n",
    "metadata['overview'] = metadata['overview'].fillna('')\n",
    "tfidf_matrix = tfidf.fit_transform(metadata['overview'])"
   ]
  },
  {
   "cell_type": "code",
   "execution_count": 6,
   "metadata": {},
   "outputs": [],
   "source": [
    "#making the obj type usable\n",
    "features = ['cast', 'crew', 'keywords', 'genres']\n",
    "for feature in features:\n",
    "    metadata[feature] = metadata[feature].apply(literal_eval)"
   ]
  },
  {
   "cell_type": "code",
   "execution_count": 7,
   "metadata": {},
   "outputs": [],
   "source": [
    "def get_director(crew):\n",
    "    for people in crew:\n",
    "        if people['job'] == 'Director':\n",
    "            return people['name']\n",
    "    return np.nan\n",
    "\n",
    "def get_list(x):\n",
    "    if isinstance(x, list):\n",
    "        list_items = [item['name'] for item in x]\n",
    "        if len(list_items) > 3:\n",
    "            list_items = list_items[:3]\n",
    "        return list_items\n",
    "\n",
    "    return []\n",
    "\n",
    "def distinct_data(x):\n",
    "    if (isinstance(x, list)):\n",
    "        return [item.replace(\" \", \"\").lower() for item in x]\n",
    "    elif (isinstance(x, str)):\n",
    "        return x.replace(\" \", \"\").lower()\n",
    "    else:\n",
    "        return ''\n",
    "    \n",
    "def create_soup(data):\n",
    "     return ' '.join(data['keywords']) + ' ' + ' '.join(data['cast']) + ' ' + data['director'] + ' ' + ' '.join(data['genres'])\n"
   ]
  },
  {
   "cell_type": "code",
   "execution_count": 8,
   "metadata": {},
   "outputs": [],
   "source": [
    "#making a director column\n",
    "metadata['director'] = metadata['crew'].apply(get_director)\n",
    "features = ['cast', 'keywords', 'genres']\n",
    "for feature in features:\n",
    "    metadata[feature] = metadata[feature].apply(get_list)\n",
    "#removing the space and making everything lower case\n",
    "features = ['cast', 'keywords', 'genres', 'director']\n",
    "for feature in features:\n",
    "    metadata[feature] = metadata[feature].apply(distinct_data)"
   ]
  },
  {
   "cell_type": "code",
   "execution_count": 9,
   "metadata": {},
   "outputs": [],
   "source": [
    "#apply the function to the rows\n",
    "metadata['soup'] = metadata.apply(create_soup, axis=1)\n",
    "\n",
    "count = CountVectorizer(stop_words='english')\n",
    "count_matrix = count.fit_transform(metadata['soup'])\n",
    "cosine_sim2 = cosine_similarity(count_matrix, count_matrix)\n",
    "indices = pd.Series(metadata.index, index=metadata['title'])\n",
    "metadata = metadata.reset_index()"
   ]
  },
  {
   "cell_type": "code",
   "execution_count": 14,
   "metadata": {},
   "outputs": [
    {
     "name": "stdout",
     "output_type": "stream",
     "text": [
      "1   The Dark Knight\n",
      "2   The Dark Knight Rises\n",
      "3   Shiner\n",
      "4   SPL 2: A Time for Consequences\n",
      "5   Amongst Friends\n",
      "6   Mitchell\n",
      "7   Lone Wolf McQuade\n",
      "8   Enter the Ninja\n",
      "9   Revenge of the Ninja\n",
      "10   The Prestige\n"
     ]
    }
   ],
   "source": [
    "def get_recommendation(title, cosine_sim):\n",
    "    idx = indices[title]\n",
    "    sim_scores = list(enumerate(cosine_sim[idx]))\n",
    "    sim_scores.sort(key=lambda x:x[1], reverse = True)   \n",
    "    sim_scores = sim_scores[1:11]\n",
    "    movies = [metadata['title'][i[0]] for i in sim_scores]\n",
    "    return movies\n",
    "\n",
    "movie_name = \"Batman Begins\"\n",
    "movies = get_recommendation(movie_name, cosine_sim2)\n",
    "for idx,movie in enumerate(movies):\n",
    "    print(idx+1, \" \", movie)"
   ]
  },
  {
   "cell_type": "code",
   "execution_count": null,
   "metadata": {},
   "outputs": [],
   "source": []
  }
 ],
 "metadata": {
  "kernelspec": {
   "display_name": "Python 3.7.6 ('base')",
   "language": "python",
   "name": "python3"
  },
  "language_info": {
   "codemirror_mode": {
    "name": "ipython",
    "version": 3
   },
   "file_extension": ".py",
   "mimetype": "text/x-python",
   "name": "python",
   "nbconvert_exporter": "python",
   "pygments_lexer": "ipython3",
   "version": "3.7.6"
  },
  "orig_nbformat": 4,
  "vscode": {
   "interpreter": {
    "hash": "40d3a090f54c6569ab1632332b64b2c03c39dcf918b08424e98f38b5ae0af88f"
   }
  }
 },
 "nbformat": 4,
 "nbformat_minor": 2
}
